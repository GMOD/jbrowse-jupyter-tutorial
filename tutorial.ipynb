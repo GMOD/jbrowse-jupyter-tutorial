{
 "cells": [
  {
   "cell_type": "code",
   "execution_count": 1,
   "id": "f09cd967-7161-48a6-b89a-981b4c2639cc",
   "metadata": {},
   "outputs": [
    {
     "name": "stdout",
     "output_type": "stream",
     "text": [
      "Requirement already satisfied: jbrowse-jupyter in ./lib/python3.11/site-packages (1.4.0)\n",
      "Requirement already satisfied: dash>=2.11.1 in ./lib/python3.11/site-packages (from jbrowse-jupyter) (2.14.2)\n",
      "Requirement already satisfied: dash-jbrowse>=1.2.0 in ./lib/python3.11/site-packages (from jbrowse-jupyter) (1.3.1)\n",
      "Requirement already satisfied: jupyter-dash>=0.4.2 in ./lib/python3.11/site-packages (from jbrowse-jupyter) (0.4.2)\n",
      "Requirement already satisfied: Werkzeug==2.0.3 in ./lib/python3.11/site-packages (from jbrowse-jupyter) (2.0.3)\n",
      "Requirement already satisfied: pandas>=1.1.5 in ./lib/python3.11/site-packages (from jbrowse-jupyter) (2.1.3)\n",
      "Requirement already satisfied: Flask<3.1,>=1.0.4 in ./lib/python3.11/site-packages (from dash>=2.11.1->jbrowse-jupyter) (2.1.3)\n",
      "Requirement already satisfied: plotly>=5.0.0 in ./lib/python3.11/site-packages (from dash>=2.11.1->jbrowse-jupyter) (5.18.0)\n",
      "Requirement already satisfied: dash-html-components==2.0.0 in ./lib/python3.11/site-packages (from dash>=2.11.1->jbrowse-jupyter) (2.0.0)\n",
      "Requirement already satisfied: dash-core-components==2.0.0 in ./lib/python3.11/site-packages (from dash>=2.11.1->jbrowse-jupyter) (2.0.0)\n",
      "Requirement already satisfied: dash-table==5.0.0 in ./lib/python3.11/site-packages (from dash>=2.11.1->jbrowse-jupyter) (5.0.0)\n",
      "Requirement already satisfied: typing-extensions>=4.1.1 in ./lib/python3.11/site-packages (from dash>=2.11.1->jbrowse-jupyter) (4.8.0)\n",
      "Requirement already satisfied: requests in ./lib/python3.11/site-packages (from dash>=2.11.1->jbrowse-jupyter) (2.31.0)\n",
      "Requirement already satisfied: retrying in ./lib/python3.11/site-packages (from dash>=2.11.1->jbrowse-jupyter) (1.3.4)\n",
      "Requirement already satisfied: ansi2html in ./lib/python3.11/site-packages (from dash>=2.11.1->jbrowse-jupyter) (1.8.0)\n",
      "Requirement already satisfied: nest-asyncio in ./lib/python3.11/site-packages (from dash>=2.11.1->jbrowse-jupyter) (1.5.8)\n",
      "Requirement already satisfied: setuptools in ./lib/python3.11/site-packages (from dash>=2.11.1->jbrowse-jupyter) (68.1.2)\n",
      "Requirement already satisfied: importlib-metadata in ./lib/python3.11/site-packages (from dash>=2.11.1->jbrowse-jupyter) (7.0.0)\n",
      "Requirement already satisfied: ipython in ./lib/python3.11/site-packages (from jupyter-dash>=0.4.2->jbrowse-jupyter) (8.18.1)\n",
      "Requirement already satisfied: ipykernel in ./lib/python3.11/site-packages (from jupyter-dash>=0.4.2->jbrowse-jupyter) (6.27.1)\n",
      "Requirement already satisfied: numpy<2,>=1.23.2 in ./lib/python3.11/site-packages (from pandas>=1.1.5->jbrowse-jupyter) (1.26.2)\n",
      "Requirement already satisfied: python-dateutil>=2.8.2 in ./lib/python3.11/site-packages (from pandas>=1.1.5->jbrowse-jupyter) (2.8.2)\n",
      "Requirement already satisfied: pytz>=2020.1 in ./lib/python3.11/site-packages (from pandas>=1.1.5->jbrowse-jupyter) (2023.3.post1)\n",
      "Requirement already satisfied: tzdata>=2022.1 in ./lib/python3.11/site-packages (from pandas>=1.1.5->jbrowse-jupyter) (2023.3)\n",
      "Requirement already satisfied: Jinja2>=3.0 in ./lib/python3.11/site-packages (from Flask<3.1,>=1.0.4->dash>=2.11.1->jbrowse-jupyter) (3.1.2)\n",
      "Requirement already satisfied: itsdangerous>=2.0 in ./lib/python3.11/site-packages (from Flask<3.1,>=1.0.4->dash>=2.11.1->jbrowse-jupyter) (2.1.2)\n",
      "Requirement already satisfied: click>=8.0 in ./lib/python3.11/site-packages (from Flask<3.1,>=1.0.4->dash>=2.11.1->jbrowse-jupyter) (8.1.7)\n",
      "Requirement already satisfied: tenacity>=6.2.0 in ./lib/python3.11/site-packages (from plotly>=5.0.0->dash>=2.11.1->jbrowse-jupyter) (8.2.3)\n",
      "Requirement already satisfied: packaging in ./lib/python3.11/site-packages (from plotly>=5.0.0->dash>=2.11.1->jbrowse-jupyter) (23.2)\n",
      "Requirement already satisfied: six>=1.5 in ./lib/python3.11/site-packages (from python-dateutil>=2.8.2->pandas>=1.1.5->jbrowse-jupyter) (1.16.0)\n",
      "Requirement already satisfied: zipp>=0.5 in ./lib/python3.11/site-packages (from importlib-metadata->dash>=2.11.1->jbrowse-jupyter) (3.17.0)\n",
      "Requirement already satisfied: comm>=0.1.1 in ./lib/python3.11/site-packages (from ipykernel->jupyter-dash>=0.4.2->jbrowse-jupyter) (0.2.0)\n",
      "Requirement already satisfied: debugpy>=1.6.5 in ./lib/python3.11/site-packages (from ipykernel->jupyter-dash>=0.4.2->jbrowse-jupyter) (1.8.0)\n",
      "Requirement already satisfied: jupyter-client>=6.1.12 in ./lib/python3.11/site-packages (from ipykernel->jupyter-dash>=0.4.2->jbrowse-jupyter) (8.6.0)\n",
      "Requirement already satisfied: jupyter-core!=5.0.*,>=4.12 in ./lib/python3.11/site-packages (from ipykernel->jupyter-dash>=0.4.2->jbrowse-jupyter) (5.5.0)\n",
      "Requirement already satisfied: matplotlib-inline>=0.1 in ./lib/python3.11/site-packages (from ipykernel->jupyter-dash>=0.4.2->jbrowse-jupyter) (0.1.6)\n",
      "Requirement already satisfied: psutil in ./lib/python3.11/site-packages (from ipykernel->jupyter-dash>=0.4.2->jbrowse-jupyter) (5.9.6)\n",
      "Requirement already satisfied: pyzmq>=20 in ./lib/python3.11/site-packages (from ipykernel->jupyter-dash>=0.4.2->jbrowse-jupyter) (25.1.2)\n",
      "Requirement already satisfied: tornado>=6.1 in ./lib/python3.11/site-packages (from ipykernel->jupyter-dash>=0.4.2->jbrowse-jupyter) (6.4)\n",
      "Requirement already satisfied: traitlets>=5.4.0 in ./lib/python3.11/site-packages (from ipykernel->jupyter-dash>=0.4.2->jbrowse-jupyter) (5.14.0)\n",
      "Requirement already satisfied: decorator in ./lib/python3.11/site-packages (from ipython->jupyter-dash>=0.4.2->jbrowse-jupyter) (5.1.1)\n",
      "Requirement already satisfied: jedi>=0.16 in ./lib/python3.11/site-packages (from ipython->jupyter-dash>=0.4.2->jbrowse-jupyter) (0.19.1)\n",
      "Requirement already satisfied: prompt-toolkit<3.1.0,>=3.0.41 in ./lib/python3.11/site-packages (from ipython->jupyter-dash>=0.4.2->jbrowse-jupyter) (3.0.41)\n",
      "Requirement already satisfied: pygments>=2.4.0 in ./lib/python3.11/site-packages (from ipython->jupyter-dash>=0.4.2->jbrowse-jupyter) (2.17.2)\n",
      "Requirement already satisfied: stack-data in ./lib/python3.11/site-packages (from ipython->jupyter-dash>=0.4.2->jbrowse-jupyter) (0.6.3)\n",
      "Requirement already satisfied: pexpect>4.3 in ./lib/python3.11/site-packages (from ipython->jupyter-dash>=0.4.2->jbrowse-jupyter) (4.9.0)\n",
      "Requirement already satisfied: charset-normalizer<4,>=2 in ./lib/python3.11/site-packages (from requests->dash>=2.11.1->jbrowse-jupyter) (3.3.2)\n",
      "Requirement already satisfied: idna<4,>=2.5 in ./lib/python3.11/site-packages (from requests->dash>=2.11.1->jbrowse-jupyter) (3.6)\n",
      "Requirement already satisfied: urllib3<3,>=1.21.1 in ./lib/python3.11/site-packages (from requests->dash>=2.11.1->jbrowse-jupyter) (2.1.0)\n",
      "Requirement already satisfied: certifi>=2017.4.17 in ./lib/python3.11/site-packages (from requests->dash>=2.11.1->jbrowse-jupyter) (2023.11.17)\n",
      "Requirement already satisfied: parso<0.9.0,>=0.8.3 in ./lib/python3.11/site-packages (from jedi>=0.16->ipython->jupyter-dash>=0.4.2->jbrowse-jupyter) (0.8.3)\n",
      "Requirement already satisfied: MarkupSafe>=2.0 in ./lib/python3.11/site-packages (from Jinja2>=3.0->Flask<3.1,>=1.0.4->dash>=2.11.1->jbrowse-jupyter) (2.1.3)\n",
      "Requirement already satisfied: platformdirs>=2.5 in ./lib/python3.11/site-packages (from jupyter-core!=5.0.*,>=4.12->ipykernel->jupyter-dash>=0.4.2->jbrowse-jupyter) (4.1.0)\n",
      "Requirement already satisfied: ptyprocess>=0.5 in ./lib/python3.11/site-packages (from pexpect>4.3->ipython->jupyter-dash>=0.4.2->jbrowse-jupyter) (0.7.0)\n",
      "Requirement already satisfied: wcwidth in ./lib/python3.11/site-packages (from prompt-toolkit<3.1.0,>=3.0.41->ipython->jupyter-dash>=0.4.2->jbrowse-jupyter) (0.2.12)\n",
      "Requirement already satisfied: executing>=1.2.0 in ./lib/python3.11/site-packages (from stack-data->ipython->jupyter-dash>=0.4.2->jbrowse-jupyter) (2.0.1)\n",
      "Requirement already satisfied: asttokens>=2.1.0 in ./lib/python3.11/site-packages (from stack-data->ipython->jupyter-dash>=0.4.2->jbrowse-jupyter) (2.4.1)\n",
      "Requirement already satisfied: pure-eval in ./lib/python3.11/site-packages (from stack-data->ipython->jupyter-dash>=0.4.2->jbrowse-jupyter) (0.2.2)\n"
     ]
    }
   ],
   "source": [
    "!pip install jbrowse-jupyter"
   ]
  },
  {
   "cell_type": "code",
   "execution_count": 2,
   "id": "09002f72-67e9-4050-bfd7-8759c8c4559d",
   "metadata": {},
   "outputs": [
    {
     "name": "stderr",
     "output_type": "stream",
     "text": [
      "/home/cdiesh/jupyterproject/lib/python3.11/site-packages/dash/dash.py:538: UserWarning:\n",
      "\n",
      "JupyterDash is deprecated, use Dash instead.\n",
      "See https://dash.plotly.com/dash-in-jupyter for more details.\n",
      "\n"
     ]
    },
    {
     "data": {
      "text/html": [
       "\n",
       "        <iframe\n",
       "            width=\"100%\"\n",
       "            height=\"650\"\n",
       "            src=\"http://127.0.0.1:3013/\"\n",
       "            frameborder=\"0\"\n",
       "            allowfullscreen\n",
       "            \n",
       "        ></iframe>\n",
       "        "
      ],
      "text/plain": [
       "<IPython.lib.display.IFrame at 0x7f89660a0150>"
      ]
     },
     "metadata": {},
     "output_type": "display_data"
    },
    {
     "data": {
      "text/html": [
       "\n",
       "        <iframe\n",
       "            width=\"100%\"\n",
       "            height=\"300\"\n",
       "            src=\"http://127.0.0.1:3013/\"\n",
       "            frameborder=\"0\"\n",
       "            allowfullscreen\n",
       "            \n",
       "        ></iframe>\n",
       "        "
      ],
      "text/plain": [
       "<IPython.lib.display.IFrame at 0x7f8966a210d0>"
      ]
     },
     "metadata": {},
     "output_type": "display_data"
    }
   ],
   "source": [
    "\n",
    "from jbrowse_jupyter import launch, create\n",
    "hg38 = create('LGV', genome='hg38')\n",
    "hg38.set_location(\"10:1000..35000\")\n",
    "new_conf = hg38.get_config()\n",
    "launch(new_conf, port=3013)"
   ]
  },
  {
   "cell_type": "code",
   "execution_count": 9,
   "id": "83c69424-70c8-4665-a231-79ce131c77b0",
   "metadata": {},
   "outputs": [
    {
     "data": {
      "text/html": [
       "\n",
       "        <iframe\n",
       "            width=\"100%\"\n",
       "            height=\"650\"\n",
       "            src=\"http://127.0.0.1:8003/\"\n",
       "            frameborder=\"0\"\n",
       "            allowfullscreen\n",
       "            \n",
       "        ></iframe>\n",
       "        "
      ],
      "text/plain": [
       "<IPython.lib.display.IFrame at 0x7f896425a990>"
      ]
     },
     "metadata": {},
     "output_type": "display_data"
    },
    {
     "data": {
      "text/html": [
       "\n",
       "        <iframe\n",
       "            width=\"100%\"\n",
       "            height=\"300\"\n",
       "            src=\"http://127.0.0.1:8003/\"\n",
       "            frameborder=\"0\"\n",
       "            allowfullscreen\n",
       "            \n",
       "        ></iframe>\n",
       "        "
      ],
      "text/plain": [
       "<IPython.lib.display.IFrame at 0x7f896426e910>"
      ]
     },
     "metadata": {},
     "output_type": "display_data"
    }
   ],
   "source": [
    "hg38.add_track(\"http://localhost:3000/ENCFF303QSJ.bigWig\", track_id=\"mybigwig\", overwrite=True)\n",
    "hg38.set_default_session(['mybigwig'], False)\n",
    "hg38.set_location(\"10:27,369,085..27,494,654\")\n",
    "launch(hg38.get_config(), port=8003) # different port than the first cell"
   ]
  },
  {
   "cell_type": "code",
   "execution_count": 27,
   "id": "6dd9d221-82e6-4e68-92a5-2185dc01f1dd",
   "metadata": {},
   "outputs": [
    {
     "name": "stdout",
     "output_type": "stream",
     "text": [
      "Requirement already satisfied: pandas in ./lib/python3.11/site-packages (2.1.3)\n",
      "Requirement already satisfied: numpy<2,>=1.23.2 in ./lib/python3.11/site-packages (from pandas) (1.26.2)\n",
      "Requirement already satisfied: python-dateutil>=2.8.2 in ./lib/python3.11/site-packages (from pandas) (2.8.2)\n",
      "Requirement already satisfied: pytz>=2020.1 in ./lib/python3.11/site-packages (from pandas) (2023.3.post1)\n",
      "Requirement already satisfied: tzdata>=2022.1 in ./lib/python3.11/site-packages (from pandas) (2023.3)\n",
      "Requirement already satisfied: six>=1.5 in ./lib/python3.11/site-packages (from python-dateutil>=2.8.2->pandas) (1.16.0)\n",
      "Collecting bioframe\n",
      "  Obtaining dependency information for bioframe from https://files.pythonhosted.org/packages/f2/dc/1bfd3291ea5b1e30db217e78c4b3d491edcb10855558569b5bad566d8c63/bioframe-0.5.1-py2.py3-none-any.whl.metadata\n",
      "  Downloading bioframe-0.5.1-py2.py3-none-any.whl.metadata (6.3 kB)\n",
      "Collecting matplotlib (from bioframe)\n",
      "  Obtaining dependency information for matplotlib from https://files.pythonhosted.org/packages/92/1a/cd3e0c90d1a763ad90073e13b189b4702f11becf4e71dbbad70a7a149811/matplotlib-3.8.2-cp311-cp311-manylinux_2_17_x86_64.manylinux2014_x86_64.whl.metadata\n",
      "  Downloading matplotlib-3.8.2-cp311-cp311-manylinux_2_17_x86_64.manylinux2014_x86_64.whl.metadata (5.8 kB)\n",
      "Requirement already satisfied: numpy>=1.10 in ./lib/python3.11/site-packages (from bioframe) (1.26.2)\n",
      "Requirement already satisfied: pandas>=1.3 in ./lib/python3.11/site-packages (from bioframe) (2.1.3)\n",
      "Requirement already satisfied: pyyaml in ./lib/python3.11/site-packages (from bioframe) (6.0.1)\n",
      "Requirement already satisfied: requests in ./lib/python3.11/site-packages (from bioframe) (2.31.0)\n",
      "Requirement already satisfied: python-dateutil>=2.8.2 in ./lib/python3.11/site-packages (from pandas>=1.3->bioframe) (2.8.2)\n",
      "Requirement already satisfied: pytz>=2020.1 in ./lib/python3.11/site-packages (from pandas>=1.3->bioframe) (2023.3.post1)\n",
      "Requirement already satisfied: tzdata>=2022.1 in ./lib/python3.11/site-packages (from pandas>=1.3->bioframe) (2023.3)\n",
      "Collecting contourpy>=1.0.1 (from matplotlib->bioframe)\n",
      "  Obtaining dependency information for contourpy>=1.0.1 from https://files.pythonhosted.org/packages/e2/83/29a63bbc72839cc6b24b5a0e3d004d4ed4e8439f26460ad9a34e39251904/contourpy-1.2.0-cp311-cp311-manylinux_2_17_x86_64.manylinux2014_x86_64.whl.metadata\n",
      "  Downloading contourpy-1.2.0-cp311-cp311-manylinux_2_17_x86_64.manylinux2014_x86_64.whl.metadata (5.8 kB)\n",
      "Collecting cycler>=0.10 (from matplotlib->bioframe)\n",
      "  Obtaining dependency information for cycler>=0.10 from https://files.pythonhosted.org/packages/e7/05/c19819d5e3d95294a6f5947fb9b9629efb316b96de511b418c53d245aae6/cycler-0.12.1-py3-none-any.whl.metadata\n",
      "  Downloading cycler-0.12.1-py3-none-any.whl.metadata (3.8 kB)\n",
      "Collecting fonttools>=4.22.0 (from matplotlib->bioframe)\n",
      "  Obtaining dependency information for fonttools>=4.22.0 from https://files.pythonhosted.org/packages/46/01/4d8c7ac72133a679ec6cedc9cef97d47d02411b431ba6ef014e563f7989c/fonttools-4.46.0-cp311-cp311-manylinux_2_17_x86_64.manylinux2014_x86_64.whl.metadata\n",
      "  Downloading fonttools-4.46.0-cp311-cp311-manylinux_2_17_x86_64.manylinux2014_x86_64.whl.metadata (156 kB)\n",
      "\u001b[2K     \u001b[38;2;114;156;31m━━━━━━━━━━━━━━━━━━━━━━━━━━━━━━━━━━━━━━━\u001b[0m \u001b[32m156.2/156.2 kB\u001b[0m \u001b[31m3.8 MB/s\u001b[0m eta \u001b[36m0:00:00\u001b[0m[31m3.3 MB/s\u001b[0m eta \u001b[36m0:00:01\u001b[0m\n",
      "\u001b[?25hCollecting kiwisolver>=1.3.1 (from matplotlib->bioframe)\n",
      "  Obtaining dependency information for kiwisolver>=1.3.1 from https://files.pythonhosted.org/packages/17/ba/17a706b232308e65f57deeccae503c268292e6a091313f6ce833a23093ea/kiwisolver-1.4.5-cp311-cp311-manylinux_2_17_x86_64.manylinux2014_x86_64.whl.metadata\n",
      "  Downloading kiwisolver-1.4.5-cp311-cp311-manylinux_2_17_x86_64.manylinux2014_x86_64.whl.metadata (6.4 kB)\n",
      "Requirement already satisfied: packaging>=20.0 in ./lib/python3.11/site-packages (from matplotlib->bioframe) (23.2)\n",
      "Collecting pillow>=8 (from matplotlib->bioframe)\n",
      "  Obtaining dependency information for pillow>=8 from https://files.pythonhosted.org/packages/6f/d8/f31dd84b4363b5f24c71b25a13ec3855f5ff233e07e1c3f1f8e979e12be2/Pillow-10.1.0-cp311-cp311-manylinux_2_28_x86_64.whl.metadata\n",
      "  Downloading Pillow-10.1.0-cp311-cp311-manylinux_2_28_x86_64.whl.metadata (9.5 kB)\n",
      "Collecting pyparsing>=2.3.1 (from matplotlib->bioframe)\n",
      "  Obtaining dependency information for pyparsing>=2.3.1 from https://files.pythonhosted.org/packages/39/92/8486ede85fcc088f1b3dba4ce92dd29d126fd96b0008ea213167940a2475/pyparsing-3.1.1-py3-none-any.whl.metadata\n",
      "  Downloading pyparsing-3.1.1-py3-none-any.whl.metadata (5.1 kB)\n",
      "Requirement already satisfied: charset-normalizer<4,>=2 in ./lib/python3.11/site-packages (from requests->bioframe) (3.3.2)\n",
      "Requirement already satisfied: idna<4,>=2.5 in ./lib/python3.11/site-packages (from requests->bioframe) (3.6)\n",
      "Requirement already satisfied: urllib3<3,>=1.21.1 in ./lib/python3.11/site-packages (from requests->bioframe) (2.1.0)\n",
      "Requirement already satisfied: certifi>=2017.4.17 in ./lib/python3.11/site-packages (from requests->bioframe) (2023.11.17)\n",
      "Requirement already satisfied: six>=1.5 in ./lib/python3.11/site-packages (from python-dateutil>=2.8.2->pandas>=1.3->bioframe) (1.16.0)\n",
      "Downloading bioframe-0.5.1-py2.py3-none-any.whl (142 kB)\n",
      "\u001b[2K   \u001b[38;2;114;156;31m━━━━━━━━━━━━━━━━━━━━━━━━━━━━━━━━━━━━━━━━\u001b[0m \u001b[32m142.8/142.8 kB\u001b[0m \u001b[31m12.2 MB/s\u001b[0m eta \u001b[36m0:00:00\u001b[0m\n",
      "\u001b[?25hDownloading matplotlib-3.8.2-cp311-cp311-manylinux_2_17_x86_64.manylinux2014_x86_64.whl (11.6 MB)\n",
      "\u001b[2K   \u001b[38;2;114;156;31m━━━━━━━━━━━━━━━━━━━━━━━━━━━━━━━━━━━━━━━━\u001b[0m \u001b[32m11.6/11.6 MB\u001b[0m \u001b[31m27.2 MB/s\u001b[0m eta \u001b[36m0:00:00\u001b[0mm eta \u001b[36m0:00:01\u001b[0m0:01\u001b[0m:01\u001b[0m\n",
      "\u001b[?25hDownloading contourpy-1.2.0-cp311-cp311-manylinux_2_17_x86_64.manylinux2014_x86_64.whl (313 kB)\n",
      "\u001b[2K   \u001b[38;2;114;156;31m━━━━━━━━━━━━━━━━━━━━━━━━━━━━━━━━━━━━━━━━\u001b[0m \u001b[32m313.4/313.4 kB\u001b[0m \u001b[31m13.8 MB/s\u001b[0m eta \u001b[36m0:00:00\u001b[0m\n",
      "\u001b[?25hDownloading cycler-0.12.1-py3-none-any.whl (8.3 kB)\n",
      "Downloading fonttools-4.46.0-cp311-cp311-manylinux_2_17_x86_64.manylinux2014_x86_64.whl (4.9 MB)\n",
      "\u001b[2K   \u001b[38;2;114;156;31m━━━━━━━━━━━━━━━━━━━━━━━━━━━━━━━━━━━━━━━━\u001b[0m \u001b[32m4.9/4.9 MB\u001b[0m \u001b[31m27.9 MB/s\u001b[0m eta \u001b[36m0:00:00\u001b[0mm eta \u001b[36m0:00:01\u001b[0m0:01\u001b[0m:01\u001b[0m\n",
      "\u001b[?25hDownloading kiwisolver-1.4.5-cp311-cp311-manylinux_2_17_x86_64.manylinux2014_x86_64.whl (1.4 MB)\n",
      "\u001b[2K   \u001b[38;2;114;156;31m━━━━━━━━━━━━━━━━━━━━━━━━━━━━━━━━━━━━━━━━\u001b[0m \u001b[32m1.4/1.4 MB\u001b[0m \u001b[31m26.7 MB/s\u001b[0m eta \u001b[36m0:00:00\u001b[0m31m29.0 MB/s\u001b[0m eta \u001b[36m0:00:01\u001b[0m\n",
      "\u001b[?25hDownloading Pillow-10.1.0-cp311-cp311-manylinux_2_28_x86_64.whl (3.6 MB)\n",
      "\u001b[2K   \u001b[38;2;114;156;31m━━━━━━━━━━━━━━━━━━━━━━━━━━━━━━━━━━━━━━━━\u001b[0m \u001b[32m3.6/3.6 MB\u001b[0m \u001b[31m23.8 MB/s\u001b[0m eta \u001b[36m0:00:00\u001b[0mm eta \u001b[36m0:00:01\u001b[0m0:01\u001b[0m:01\u001b[0m\n",
      "\u001b[?25hDownloading pyparsing-3.1.1-py3-none-any.whl (103 kB)\n",
      "\u001b[2K   \u001b[38;2;114;156;31m━━━━━━━━━━━━━━━━━━━━━━━━━━━━━━━━━━━━━━━━\u001b[0m \u001b[32m103.1/103.1 kB\u001b[0m \u001b[31m18.3 MB/s\u001b[0m eta \u001b[36m0:00:00\u001b[0m\n",
      "\u001b[?25hInstalling collected packages: pyparsing, pillow, kiwisolver, fonttools, cycler, contourpy, matplotlib, bioframe\n",
      "Successfully installed bioframe-0.5.1 contourpy-1.2.0 cycler-0.12.1 fonttools-4.46.0 kiwisolver-1.4.5 matplotlib-3.8.2 pillow-10.1.0 pyparsing-3.1.1\n"
     ]
    }
   ],
   "source": [
    "!pip install pandas\n",
    "!pip install bioframe"
   ]
  },
  {
   "cell_type": "code",
   "execution_count": 29,
   "id": "9f02b683-bb37-4a2f-bfa0-6b16ab7c9371",
   "metadata": {},
   "outputs": [
    {
     "name": "stdout",
     "output_type": "stream",
     "text": [
      "     chrom  start     end  score\n",
      "0     chr1      0      10     71\n",
      "1     chr1     10      20     28\n",
      "2     chr1     20      30     72\n",
      "3     chr1     30      40     45\n",
      "4     chr1     40      50     54\n",
      "...    ...    ...     ...    ...\n",
      "9995  chr1  99950   99960     75\n",
      "9996  chr1  99960   99970     53\n",
      "9997  chr1  99970   99980     29\n",
      "9998  chr1  99980   99990     47\n",
      "9999  chr1  99990  100000     53\n",
      "\n",
      "[10000 rows x 4 columns]\n"
     ]
    },
    {
     "data": {
      "text/plain": [
       "CompletedProcess(args=['bedGraphToBigWig', '/tmp/tmpr8hhig8e.bg', '/tmp/tmpzgoe8coz.chrom.sizes', 'out.bw'], returncode=0, stdout=b'', stderr=b'')"
      ]
     },
     "execution_count": 29,
     "metadata": {},
     "output_type": "execute_result"
    }
   ],
   "source": [
    "import pandas as pd\n",
    "import bioframe\n",
    "import random\n",
    "\n",
    "def makedf(n,windowSize):\n",
    "    chroms = [\"chr1\"] * n\n",
    "    starts = range(0, n * 10, windowSize)\n",
    "    ends = [x + windowSize for x in starts]\n",
    "    scores = random.choices(range(1, 101), k=n)\n",
    "\n",
    "    df = pd.DataFrame({\n",
    "        'chrom': chroms,\n",
    "        'start': starts,\n",
    "        'end': ends,\n",
    "        'score': scores\n",
    "    })\n",
    "\n",
    "    return df\n",
    "\n",
    "df=makedf(10000,10)\n",
    "print(df)\n",
    "chromsizes = bioframe.fetch_chromsizes('hg38')\n",
    "bioframe.to_bigwig(df,chromsizes,\"randomScores.bw\")"
   ]
  }
 ],
 "metadata": {
  "kernelspec": {
   "display_name": "Python 3 (ipykernel)",
   "language": "python",
   "name": "python3"
  },
  "language_info": {
   "codemirror_mode": {
    "name": "ipython",
    "version": 3
   },
   "file_extension": ".py",
   "mimetype": "text/x-python",
   "name": "python",
   "nbconvert_exporter": "python",
   "pygments_lexer": "ipython3",
   "version": "3.11.6"
  }
 },
 "nbformat": 4,
 "nbformat_minor": 5
}
